{
 "cells": [
  {
   "cell_type": "code",
   "execution_count": null,
   "id": "7456fa64",
   "metadata": {},
   "outputs": [],
   "source": [
    "#a-1\n",
    "#a list is a data structure in python that is a mutable,or changeable,ordered sequence of elements.\n",
    "list1 = [12,36,65,89]\n",
    "list1.reverse()\n",
    "print(list1)"
   ]
  },
  {
   "cell_type": "code",
   "execution_count": null,
   "id": "74fd8196",
   "metadata": {},
   "outputs": [],
   "source": [
    "#a-2\n",
    "list1 = [12,25,63,56,]\n",
    "list1.pop()\n",
    "print(list1)"
   ]
  },
  {
   "cell_type": "code",
   "execution_count": null,
   "id": "4a9f8cfa",
   "metadata": {},
   "outputs": [],
   "source": [
    "#a-3\n",
    "list1 = [25,36,56,45,]\n",
    "list1[-1]\n",
    "\n"
   ]
  },
  {
   "cell_type": "code",
   "execution_count": null,
   "id": "56f849bc",
   "metadata": {},
   "outputs": [],
   "source": [
    "#a-4\n",
    "#append = adds elements of the last index.\n",
    "#example\n",
    "#list1 = [25,36,65,98,]\n",
    "#list1.append(23)\n",
    "#print(list1)\n",
    "#extend = adds iterable at last index.\n",
    "#example\n",
    "list1 = [56,65,98,78]\n",
    "list1.extend('88')\n",
    "print(list1)"
   ]
  },
  {
   "cell_type": "code",
   "execution_count": null,
   "id": "beb2adc0",
   "metadata": {},
   "outputs": [],
   "source": [
    "#a-5\n",
    "#list1 = [25,36,89,77,88]\n",
    "#list1.sort()\n",
    "#print(list1)\n",
    "print('largest number',list1[-1])\n",
    "print('smallest number',list1[0])\n"
   ]
  },
  {
   "cell_type": "code",
   "execution_count": null,
   "id": "2ade551e",
   "metadata": {},
   "outputs": [],
   "source": [
    "#a-6\n",
    "list1 = [1,2,3,4,]\n",
    "list2 = [1,2,3,4,]\n",
    "if list1 == list2:\n",
    "    print('list1 and list2 are equal')\n",
    "else:\n",
    "    print('list1 and list2 are not equal')\n",
    "    \n"
   ]
  },
  {
   "cell_type": "code",
   "execution_count": null,
   "id": "b639497c",
   "metadata": {},
   "outputs": [],
   "source": [
    "#a-7 \n",
    "list1 = ['patel','pranav','pop','n','n','pranavp',]\n",
    "for i in list1:\n",
    "    if len (i)>=2:\n",
    "        if i [0]==i [-1]:\n",
    "            print(i)\n",
    "        \n",
    "\n"
   ]
  },
  {
   "cell_type": "code",
   "execution_count": null,
   "id": "2ec0728b",
   "metadata": {},
   "outputs": [],
   "source": [
    "#a-8 \n",
    "list1 = [1,2,3,1,2]\n",
    "set(list1)\n"
   ]
  },
  {
   "cell_type": "code",
   "execution_count": null,
   "id": "39eefceb",
   "metadata": {},
   "outputs": [],
   "source": [
    "#a-9 Write a Python program to check a list is empty or not.\n",
    "list1 = []    \n",
    "if len(list1)==0:\n",
    "    print('list1 is empty')\n",
    "else :\n",
    "    print('list1 is not empty')\n",
    " "
   ]
  },
  {
   "cell_type": "code",
   "execution_count": null,
   "id": "1d4adc64",
   "metadata": {},
   "outputs": [],
   "source": [
    "#a-10 Write a Python function that takes two lists and returns true if they have at least one common member.\n",
    "list1 = [12,23,65,36,98,78,20]\n",
    "list2 = [12,23,36,65,78,98,11]\n",
    "ans = False\n",
    "for i in list1:\n",
    "    if i in list2:\n",
    "        continue\n",
    "    else:\n",
    "        print(ans)\n",
    "        break\n",
    "else:\n",
    "    ans = True\n",
    "    print(ans)\n",
    "    \n"
   ]
  },
  {
   "cell_type": "code",
   "execution_count": null,
   "id": "a48f4a34",
   "metadata": {},
   "outputs": [],
   "source": [
    "#a-11 Write a Python program to generate and print a list of first and last 5 elements where the values are square of numbers between 1 and 30.\n",
    "list1 = [1,2,3,4,5,26,27,28,29,30]\n",
    "for i in list1:\n",
    "    a = (i**i)\n",
    "    print(a)"
   ]
  },
  {
   "cell_type": "code",
   "execution_count": null,
   "id": "b983f7e6",
   "metadata": {},
   "outputs": [],
   "source": [
    "#a-12 Write a Python function that takes a list and returns a new list with unique elements of the first list.\n",
    "list1 = [11,11,12,12,12,33,65,98,78]\n",
    "list2 = set(list1)\n",
    "list1 = list(list2)\n",
    "print(list1)\n",
    "    "
   ]
  },
  {
   "cell_type": "code",
   "execution_count": null,
   "id": "163bc0d4",
   "metadata": {},
   "outputs": [],
   "source": [
    "#a-13 Write a Python program to convert a list of characters into a string\n",
    "list1 = ['p','r','a','n','a','v']\n",
    "str1 = ''\n",
    "for i in list1:\n",
    "    str1 += i\n",
    "print(str1)    "
   ]
  },
  {
   "cell_type": "code",
   "execution_count": null,
   "id": "dfc2e010",
   "metadata": {},
   "outputs": [],
   "source": [
    "#a-14 Write a Python program to select an item randomly from a list.\n",
    "list1 = [11,12,13,14,15,16,17]\n",
    "\n"
   ]
  },
  {
   "cell_type": "code",
   "execution_count": null,
   "id": "4f35b19a",
   "metadata": {},
   "outputs": [],
   "source": [
    "#a-15 Write a Python program to find the second smallest number in a list.\n",
    "list1 = [20,58,9,87,86,45,78,]\n",
    "list1.sort()\n",
    "print(list1[1])"
   ]
  },
  {
   "cell_type": "code",
   "execution_count": null,
   "id": "d7814d91",
   "metadata": {},
   "outputs": [],
   "source": [
    "#a-16 Write a Python program to get unique values from a list.\n",
    "list1 = [25,65,98,75,88,99,25,25,25,]\n",
    "list2 = set(list1)\n",
    "print(list2)"
   ]
  },
  {
   "cell_type": "code",
   "execution_count": null,
   "id": "20625ab2",
   "metadata": {},
   "outputs": [],
   "source": [
    "#a-17 Write a Python program to check whether a list contains a sub list.\n"
   ]
  },
  {
   "cell_type": "code",
   "execution_count": null,
   "id": "0c1b86dc",
   "metadata": {},
   "outputs": [],
   "source": [
    "#a-18 Write a Python program to split a list into different variables.\n"
   ]
  },
  {
   "cell_type": "code",
   "execution_count": null,
   "id": "9166433e",
   "metadata": {},
   "outputs": [],
   "source": [
    "#a-19 What is tuple? Difference between list and tuple.\n",
    "# you can store all datatypes in tuple.ordered,indexed,immutable,allow duplicate values.\n",
    "# difference between tuple and list = a list is a data structure in python that ia mutable or changeable,ordered sequence of elements.\n",
    "# tuple = ordered,indexed,immutable,allow duplicate values,you can store all datatypes."
   ]
  },
  {
   "cell_type": "code",
   "execution_count": null,
   "id": "204d110d",
   "metadata": {},
   "outputs": [],
   "source": [
    " #a-20 Write a Python program to create a tuple with different data types.\n",
    "list1 = (12,1.5,[2,5,8],{1,5,7},{a:5,b:6},'pranav',False,(2,5,7,))\n",
    "print(list1)"
   ]
  },
  {
   "cell_type": "code",
   "execution_count": null,
   "id": "37aeab20",
   "metadata": {},
   "outputs": [],
   "source": [
    "# a-21 Write a Python program to create a tuple with numbers.\n",
    "list1 = 5,10,15,20\n",
    "print(list1)"
   ]
  },
  {
   "cell_type": "code",
   "execution_count": null,
   "id": "d73ad7ce",
   "metadata": {},
   "outputs": [],
   "source": [
    "# a-22 Write a Python program to convert a tuple to a string.\n",
    "list1 = ('p','r','a','n','a','v')\n",
    "list2 = ''\n",
    "for i in  list1:\n",
    "    list2 += i\n",
    "print(list2)    "
   ]
  },
  {
   "cell_type": "code",
   "execution_count": null,
   "id": "829f0b84",
   "metadata": {},
   "outputs": [],
   "source": [
    "#a-23 Write a Python program to check whether an element exists within a tuple.\n"
   ]
  },
  {
   "cell_type": "code",
   "execution_count": null,
   "id": "ab31dfc0",
   "metadata": {},
   "outputs": [],
   "source": [
    "#a-24 Write a Python program to find the length of a tuple.\n",
    "p = (5,8,9,7,8,7,5,5,)\n",
    "len(p)\n"
   ]
  },
  {
   "cell_type": "code",
   "execution_count": null,
   "id": "b84d0ade",
   "metadata": {},
   "outputs": [],
   "source": [
    "# a-25 Write a Python program to convert a list to a tuple.\n",
    "list1 = [1,5,4,56,62,]\n",
    "list2 = tuple(list1)\n",
    "print(list2)\n"
   ]
  },
  {
   "cell_type": "code",
   "execution_count": null,
   "id": "c6b17622",
   "metadata": {},
   "outputs": [],
   "source": [
    "#a-26 Write a Python program to reverse a tuple.\n"
   ]
  },
  {
   "cell_type": "code",
   "execution_count": null,
   "id": "b453e8e6",
   "metadata": {},
   "outputs": [],
   "source": [
    "#a-27 Write a Python program to replace last value of tuples in a list.\n"
   ]
  },
  {
   "cell_type": "code",
   "execution_count": null,
   "id": "3225f872",
   "metadata": {},
   "outputs": [],
   "source": [
    "#a-28 Write a Python program to find the repeated items of a tuple.\n"
   ]
  },
  {
   "cell_type": "code",
   "execution_count": null,
   "id": "a875a613",
   "metadata": {},
   "outputs": [],
   "source": [
    "#a-29 Write a Python program to remove an empty tuple(s) from a list of tuples.\n"
   ]
  },
  {
   "cell_type": "code",
   "execution_count": null,
   "id": "f7bc7466",
   "metadata": {},
   "outputs": [],
   "source": [
    "#a-30 Write a Python program to unzip a list of tuples into individual lists.\n"
   ]
  }
 ],
 "metadata": {
  "kernelspec": {
   "display_name": "Python 3 (ipykernel)",
   "language": "python",
   "name": "python3"
  },
  "language_info": {
   "codemirror_mode": {
    "name": "ipython",
    "version": 3
   },
   "file_extension": ".py",
   "mimetype": "text/x-python",
   "name": "python",
   "nbconvert_exporter": "python",
   "pygments_lexer": "ipython3",
   "version": "3.9.13"
  }
 },
 "nbformat": 4,
 "nbformat_minor": 5
}
