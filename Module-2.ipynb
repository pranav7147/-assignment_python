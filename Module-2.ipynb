{
 "cells": [
  {
   "cell_type": "code",
   "execution_count": null,
   "id": "d8ed19dd",
   "metadata": {},
   "outputs": [],
   "source": [
    "#Q-1\n",
    "p = int(input())\n",
    "\n",
    "if p>0:\n",
    "    print ('positive')\n",
    "elif p==0:\n",
    "    print('zero')\n",
    "else:\n",
    "    print('negative')\n",
    "    "
   ]
  },
  {
   "cell_type": "code",
   "execution_count": null,
   "id": "afbb0970",
   "metadata": {},
   "outputs": [],
   "source": [
    "#Q-2\n",
    "p =  int(input())\n",
    "r = 1\n",
    "while p != 0:\n",
    "    r=p*r\n",
    "    p-=1\n",
    "print(r) \n"
   ]
  },
  {
   "cell_type": "code",
   "execution_count": null,
   "id": "ee9d173d",
   "metadata": {},
   "outputs": [],
   "source": [
    "#Q-3\n",
    "z = int(input())\n",
    "p = 0\n",
    "r = 1\n",
    "a = 0\n",
    "while a<=z:\n",
    "    print(a, end = ' ')\n",
    "    a = p+r\n",
    "    p=r\n",
    "    r=a\n",
    "    "
   ]
  },
  {
   "cell_type": "code",
   "execution_count": null,
   "id": "f43ef160",
   "metadata": {},
   "outputs": [],
   "source": [
    "#Q-4\n",
    "#dynamically memory is managed in python.\n"
   ]
  },
  {
   "cell_type": "code",
   "execution_count": null,
   "id": "5f8fedd3",
   "metadata": {},
   "outputs": [],
   "source": [
    "#Q-5\n",
    "#skips the rest of the current iteration and continues from the next iteration."
   ]
  },
  {
   "cell_type": "code",
   "execution_count": null,
   "id": "4469be8e",
   "metadata": {},
   "outputs": [],
   "source": [
    "#Q-6\n",
    "a=6\n",
    "b=5\n",
    "a = a+b\n",
    "b = a-b\n",
    "a = a-b\n",
    "print(a)\n",
    "print(b)\n"
   ]
  },
  {
   "cell_type": "code",
   "execution_count": null,
   "id": "1b36ffde",
   "metadata": {},
   "outputs": [],
   "source": [
    "#Q-7\n",
    "p=int(input())\n",
    "if p%2==0:\n",
    "    print('even')\n",
    "else:\n",
    "    print('odd')"
   ]
  },
  {
   "cell_type": "code",
   "execution_count": null,
   "id": "7e4bfa1a",
   "metadata": {},
   "outputs": [],
   "source": [
    "#Q-8\n",
    "p=input()\n",
    "for i in (p):\n",
    "    if i=='a'or'e'or'i'or'o'or'u':\n",
    "        print('Not vowel')\n",
    "    else :\n",
    "        print('vowel')"
   ]
  },
  {
   "cell_type": "code",
   "execution_count": null,
   "id": "2d6e93d3",
   "metadata": {},
   "outputs": [],
   "source": [
    "#Q-9\n",
    "a = int(input())\n",
    "b = int(input())\n",
    "c = int(input())\n",
    "\n",
    "if a == b or b == c or c == a:\n",
    "    print ('sum is zero')\n",
    "else :\n",
    "    print (a+b+c)\n",
    "    "
   ]
  },
  {
   "cell_type": "code",
   "execution_count": null,
   "id": "6a7f2454",
   "metadata": {},
   "outputs": [],
   "source": [
    "#Q-10\n",
    "p =  int(input())\n",
    "r = 1\n",
    "while p != 1:\n",
    "    r=p+r\n",
    "    p-=1\n",
    "print(r) \n"
   ]
  },
  {
   "cell_type": "code",
   "execution_count": null,
   "id": "97232e95",
   "metadata": {},
   "outputs": [],
   "source": [
    "#Q-11\n",
    "a = int(input())\n",
    "b = int(input())\n",
    "if a+b==5:\n",
    "    print('true')\n",
    "elif a==b:\n",
    "    print('true')\n",
    "elif a-b==5:\n",
    "    print('true')\n",
    "else :\n",
    "    print('false')\n"
   ]
  },
  {
   "cell_type": "code",
   "execution_count": null,
   "id": "05bb9b57",
   "metadata": {},
   "outputs": [],
   "source": [
    "#Q-12\n",
    "str1 = 'pranav patel'\n",
    "len(str1)\n"
   ]
  },
  {
   "cell_type": "code",
   "execution_count": 10,
   "id": "63d0b51a",
   "metadata": {},
   "outputs": [
    {
     "data": {
      "text/plain": [
       "6"
      ]
     },
     "execution_count": 10,
     "metadata": {},
     "output_type": "execute_result"
    }
   ],
   "source": [
    "#Q-13\n",
    "str1 = 'pranav bharatbhai patel'\n",
    "str1.count('a')\n"
   ]
  },
  {
   "cell_type": "code",
   "execution_count": null,
   "id": "377d26ad",
   "metadata": {},
   "outputs": [],
   "source": [
    "#Q-14\n",
    "#you can use negative indexing as your advantage when you want to pick values from the end right side of an iterable.\n",
    "str1 = 'pranav patel'\n",
    "str1[-3]"
   ]
  },
  {
   "cell_type": "code",
   "execution_count": null,
   "id": "7af8319f",
   "metadata": {},
   "outputs": [],
   "source": [
    "#Q-15\n",
    "str1 = 'pranav patel'\n",
    "str1.count('a')"
   ]
  },
  {
   "cell_type": "code",
   "execution_count": null,
   "id": "940c1fec",
   "metadata": {},
   "outputs": [],
   "source": [
    "#Q-16\n",
    "a = 'surat is a diamond city.he is also know as bridge city'\n",
    "list1 = a.split()\n",
    "for i in list1:\n",
    "    print(i,list1.count(i))\n",
    "\n"
   ]
  },
  {
   "cell_type": "code",
   "execution_count": null,
   "id": "c8c3a789",
   "metadata": {},
   "outputs": [],
   "source": [
    "#Q-17\n",
    "a = 'pranav'\n",
    "b = 'patel'\n",
    "b[:2] + a[2:] + ' ' + a[:2] + b[2:]\n"
   ]
  },
  {
   "cell_type": "code",
   "execution_count": null,
   "id": "d817e25d",
   "metadata": {},
   "outputs": [],
   "source": [
    "#Q-18\n",
    "a = 'pranav'\n",
    "if len(a)>=3:\n",
    "    if a.endswith('ing'):\n",
    "        print(a+'ly')\n",
    "    else:\n",
    "        print(a+'ing')\n",
    "print(a)"
   ]
  },
  {
   "cell_type": "code",
   "execution_count": null,
   "id": "9bbba833",
   "metadata": {},
   "outputs": [],
   "source": [
    "#Q-19\n",
    "a.replace"
   ]
  },
  {
   "cell_type": "code",
   "execution_count": null,
   "id": "ce4cb34e",
   "metadata": {},
   "outputs": [],
   "source": [
    "#Q-20\n",
    "a = 'python language is very easy '"
   ]
  },
  {
   "cell_type": "code",
   "execution_count": null,
   "id": "579ca863",
   "metadata": {},
   "outputs": [],
   "source": [
    "#Q-21\n",
    "a = 'pranavpt'\n",
    "b = len(a)\n",
    "if b%4 == 0:\n",
    "    print(a[::-1])\n",
    "else :\n",
    "    print(a)\n",
    "    "
   ]
  },
  {
   "cell_type": "code",
   "execution_count": null,
   "id": "50ca3cf4",
   "metadata": {},
   "outputs": [],
   "source": [
    "#Q-22\n",
    "a = 'w3resource'\n",
    "if len(a)<2:\n",
    "    print('')\n",
    "if len(a)==2:\n",
    "    print(a+a)\n",
    "if len(a)>2:\n",
    "    print(a[0:2],end='')\n",
    "    print(a[-2::1])"
   ]
  },
  {
   "cell_type": "code",
   "execution_count": 9,
   "id": "9b392723",
   "metadata": {},
   "outputs": [
    {
     "name": "stdout",
     "output_type": "stream",
     "text": [
      "prapatelnapatelv"
     ]
    }
   ],
   "source": [
    "#Q-23\n",
    "a = 'pranav'\n",
    "for i in a:\n",
    "    if i=='a':\n",
    "        print('a' + 'patel',end='')\n",
    "    else:\n",
    "        print(i,end='')"
   ]
  },
  {
   "cell_type": "code",
   "execution_count": null,
   "id": "171217f9",
   "metadata": {},
   "outputs": [],
   "source": [
    "#this is comment\n"
   ]
  },
  {
   "cell_type": "code",
   "execution_count": null,
   "id": "12e57417",
   "metadata": {},
   "outputs": [],
   "source": [
    "##assignment completed!!"
   ]
  }
 ],
 "metadata": {
  "kernelspec": {
   "display_name": "Python 3 (ipykernel)",
   "language": "python",
   "name": "python3"
  },
  "language_info": {
   "codemirror_mode": {
    "name": "ipython",
    "version": 3
   },
   "file_extension": ".py",
   "mimetype": "text/x-python",
   "name": "python",
   "nbconvert_exporter": "python",
   "pygments_lexer": "ipython3",
   "version": "3.9.12"
  }
 },
 "nbformat": 4,
 "nbformat_minor": 5
}
